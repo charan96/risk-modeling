{
 "cells": [
  {
   "cell_type": "code",
   "execution_count": 1,
   "metadata": {},
   "outputs": [],
   "source": [
    "import os\n",
    "import re\n",
    "import glob\n",
    "from tqdm import tqdm\n",
    "from pprint import pprint"
   ]
  },
  {
   "cell_type": "code",
   "execution_count": 2,
   "metadata": {},
   "outputs": [],
   "source": [
    "data_dir = '../data'\n",
    "files = glob.glob(os.path.join(data_dir, '*/*.htm*'))"
   ]
  },
  {
   "cell_type": "code",
   "execution_count": 3,
   "metadata": {},
   "outputs": [],
   "source": [
    "def clean_html(fdata):\n",
    "    fdata = fdata.replace(\"\\n\", ' ')\n",
    "    fdata = re.sub(r'<.*?>', ' ', fdata)\n",
    "    fdata = re.sub(r'&.*?;', ' ', fdata)\n",
    "    fdata = re.sub(r'\\s+', ' ', fdata)\n",
    "    fdata = fdata.lower()\n",
    "    return fdata"
   ]
  },
  {
   "cell_type": "code",
   "execution_count": 4,
   "metadata": {},
   "outputs": [],
   "source": [
    "def extract_risk_factors(fdata):\n",
    "#     waiver. item 1a. risk factors the\n",
    "#     return re.search(r'\\s+[\\d]{2}\\.?\\s*item\\s*1a\\.?\\s*risk\\s*factors(.*)item 1b', fdata).group(1)\n",
    "#     return re.findall(r'item\\s*1a\\.?\\s*risk\\s*factors(.*?)item 1b', fdata)\n",
    "    matches = re.findall(r'item\\s*1a\\.?\\s*risk\\s*factors[\\s\\n]*(.*?)[\\s\\n]*item\\s*1b', fdata)\n",
    "    return matches[-1]\n",
    "    "
   ]
  },
  {
   "cell_type": "code",
   "execution_count": 5,
   "metadata": {},
   "outputs": [
    {
     "name": "stderr",
     "output_type": "stream",
     "text": [
      "100%|██████████| 15/15 [00:02<00:00,  6.50it/s]\n"
     ]
    }
   ],
   "source": [
    "for i, f in enumerate(tqdm(files)):\n",
    "    basename = f.split('/')[-2]\n",
    "    outname = os.path.join(data_dir, 'risk_files', basename + '.risk')\n",
    "    \n",
    "    with open(f, 'r') as fh, open(outname, 'w') as out_fh:\n",
    "        data = fh.readlines()\n",
    "        data = ' '.join(data)\n",
    "        clean_data = clean_html(data)\n",
    "        \n",
    "        try:\n",
    "            risk_factors = extract_risk_factors(clean_data)\n",
    "        except:\n",
    "            print('{}:'.format(i), basename)\n",
    "            continue\n",
    "\n",
    "        out_fh.write(risk_factors + \"\\n\")\n",
    "            \n",
    "#         out_fh.write(\"\\n\\n\\n\\n\\n\\n\")\n",
    "#         out_fh.write(clean_data)"
   ]
  },
  {
   "cell_type": "code",
   "execution_count": null,
   "metadata": {},
   "outputs": [],
   "source": []
  }
 ],
 "metadata": {
  "kernelspec": {
   "display_name": "Python 3",
   "language": "python",
   "name": "python3"
  },
  "language_info": {
   "codemirror_mode": {
    "name": "ipython",
    "version": 3
   },
   "file_extension": ".py",
   "mimetype": "text/x-python",
   "name": "python",
   "nbconvert_exporter": "python",
   "pygments_lexer": "ipython3",
   "version": "3.7.4"
  }
 },
 "nbformat": 4,
 "nbformat_minor": 2
}
